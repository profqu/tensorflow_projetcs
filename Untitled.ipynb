{
 "cells": [
  {
   "cell_type": "code",
   "execution_count": 58,
   "metadata": {},
   "outputs": [],
   "source": [
    "#Predicitng number of calls"
   ]
  },
  {
   "cell_type": "code",
   "execution_count": 2,
   "metadata": {},
   "outputs": [],
   "source": [
    "import time\n",
    "import csv"
   ]
  },
  {
   "cell_type": "code",
   "execution_count": 18,
   "metadata": {},
   "outputs": [],
   "source": [
    "def read(filename, date_idx, date_parse, year=None, bucket=7):\n",
    "    days_in_year = 365\n",
    "    freq = {}\n",
    "    if year !=None:\n",
    "        for period in range(0, int(days_in_year/bucket)):\n",
    "            freq[period]= 0 \n",
    "    with open(filename, 'r') as csvfile:\n",
    "        csvreader = csv.reader(csvfile)\n",
    "        next(csvreader)\n",
    "        for row in csvreader:\n",
    "            if row[date_idx] =='':\n",
    "                continue\n",
    "            t = time.strptime(row[date_idx], date_parse)\n",
    "            if year ==None:\n",
    "                if not t.tm_year in freq:\n",
    "                    freq[t.tm_year]={}\n",
    "                    for period in range(0, int(days_in_year/bucket)):\n",
    "                        freq[t.tm_year][period]=0\n",
    "            \n",
    "                if t.tm_yday< (days_in_year-1):\n",
    "                    freq[t.tm_year][int(t.tm_yday / bucket)]+=1\n",
    "            else:\n",
    "                if t.tm_year == year and t.tm_yday < (days_in_year-1):\n",
    "                    freq[int(t.tm_yday / bucket)] +=1\n",
    "    return freq\n",
    "            "
   ]
  },
  {
   "cell_type": "code",
   "execution_count": 25,
   "metadata": {
    "scrolled": true
   },
   "outputs": [],
   "source": [
    "freq = read('311.csv', 0,'%Y-%m-%dT%H:%M:%S', 2014)\n"
   ]
  },
  {
   "cell_type": "code",
   "execution_count": 26,
   "metadata": {},
   "outputs": [
    {
     "data": {
      "text/plain": [
       "{0: 10278,\n",
       " 1: 16752,\n",
       " 2: 15023,\n",
       " 3: 16961,\n",
       " 4: 16568,\n",
       " 5: 16276,\n",
       " 6: 14739,\n",
       " 7: 17424,\n",
       " 8: 17247,\n",
       " 9: 16508,\n",
       " 10: 17192,\n",
       " 11: 17296,\n",
       " 12: 17073,\n",
       " 13: 18252,\n",
       " 14: 17658,\n",
       " 15: 16604,\n",
       " 16: 17604,\n",
       " 17: 18274,\n",
       " 18: 17708,\n",
       " 19: 19276,\n",
       " 20: 15542,\n",
       " 21: 19434,\n",
       " 22: 17733,\n",
       " 23: 17580,\n",
       " 24: 18232,\n",
       " 25: 18809,\n",
       " 26: 15896,\n",
       " 27: 18436,\n",
       " 28: 19021,\n",
       " 29: 19186,\n",
       " 30: 18396,\n",
       " 31: 17901,\n",
       " 32: 19212,\n",
       " 33: 18941,\n",
       " 34: 16145,\n",
       " 35: 19536,\n",
       " 36: 18135,\n",
       " 37: 17970,\n",
       " 38: 17595,\n",
       " 39: 18952,\n",
       " 40: 17257,\n",
       " 41: 18368,\n",
       " 42: 18252,\n",
       " 43: 18246,\n",
       " 44: 18069,\n",
       " 45: 17623,\n",
       " 46: 18332,\n",
       " 47: 12117,\n",
       " 48: 17130,\n",
       " 49: 18217,\n",
       " 50: 17510,\n",
       " 51: 11972}"
      ]
     },
     "execution_count": 26,
     "metadata": {},
     "output_type": "execute_result"
    }
   ],
   "source": [
    "freq"
   ]
  },
  {
   "cell_type": "code",
   "execution_count": 28,
   "metadata": {},
   "outputs": [],
   "source": [
    "import numpy as np\n",
    "import matplotlib.pyplot as plt"
   ]
  },
  {
   "cell_type": "code",
   "execution_count": 29,
   "metadata": {},
   "outputs": [
    {
     "name": "stdout",
     "output_type": "stream",
     "text": [
      "Num samples 52\n"
     ]
    },
    {
     "data": {
      "image/png": "[encoded data removed]",
      "text/plain": [
       "<Figure size 432x288 with 1 Axes>"
      ]
     },
     "metadata": {
      "needs_background": "light"
     },
     "output_type": "display_data"
    }
   ],
   "source": [
    "X_train = np.asarray(list(freq.keys()))\n",
    "Y_train = np.asarray(list(freq.values()))\n",
    "print(\"Num samples\", str(len(X_train)))\n",
    "maxY = np.max(Y_train)\n",
    "nY_train = Y_train / np.max(Y_train)\n",
    "plt.scatter(X_train, nY_train)\n",
    "plt.show()"
   ]
  },
  {
   "cell_type": "code",
   "execution_count": 30,
   "metadata": {},
   "outputs": [
    {
     "data": {
      "image/png": "[encoded data removed]",
      "text/plain": [
       "<Figure size 432x288 with 1 Axes>"
      ]
     },
     "metadata": {
      "needs_background": "light"
     },
     "output_type": "display_data"
    }
   ],
   "source": [
    "def gaussian(x, mu, sig):\n",
    "    return np.exp(-np.power(x - mu, 2.) / (2 * np.power(sig, 2.)))\n",
    "x_values = np.linspace(-3, 3, 120)\n",
    "for mu, sig in [(-1, 1), (0, 2), (2, 3)]:\n",
    "    plt.plot(x_values, gaussian(x_values, mu, sig))\n",
    "plt.show()"
   ]
  },
  {
   "cell_type": "code",
   "execution_count": 31,
   "metadata": {},
   "outputs": [
    {
     "name": "stderr",
     "output_type": "stream",
     "text": [
      "C:\\Users\\KEI\\Anaconda3\\lib\\site-packages\\tensorflow\\python\\framework\\dtypes.py:526: FutureWarning: Passing (type, 1) or '1type' as a synonym of type is deprecated; in a future version of numpy, it will be understood as (type, (1,)) / '(1,)type'.\n",
      "  _np_qint8 = np.dtype([(\"qint8\", np.int8, 1)])\n",
      "C:\\Users\\KEI\\Anaconda3\\lib\\site-packages\\tensorflow\\python\\framework\\dtypes.py:527: FutureWarning: Passing (type, 1) or '1type' as a synonym of type is deprecated; in a future version of numpy, it will be understood as (type, (1,)) / '(1,)type'.\n",
      "  _np_quint8 = np.dtype([(\"quint8\", np.uint8, 1)])\n",
      "C:\\Users\\KEI\\Anaconda3\\lib\\site-packages\\tensorflow\\python\\framework\\dtypes.py:528: FutureWarning: Passing (type, 1) or '1type' as a synonym of type is deprecated; in a future version of numpy, it will be understood as (type, (1,)) / '(1,)type'.\n",
      "  _np_qint16 = np.dtype([(\"qint16\", np.int16, 1)])\n",
      "C:\\Users\\KEI\\Anaconda3\\lib\\site-packages\\tensorflow\\python\\framework\\dtypes.py:529: FutureWarning: Passing (type, 1) or '1type' as a synonym of type is deprecated; in a future version of numpy, it will be understood as (type, (1,)) / '(1,)type'.\n",
      "  _np_quint16 = np.dtype([(\"quint16\", np.uint16, 1)])\n",
      "C:\\Users\\KEI\\Anaconda3\\lib\\site-packages\\tensorflow\\python\\framework\\dtypes.py:530: FutureWarning: Passing (type, 1) or '1type' as a synonym of type is deprecated; in a future version of numpy, it will be understood as (type, (1,)) / '(1,)type'.\n",
      "  _np_qint32 = np.dtype([(\"qint32\", np.int32, 1)])\n",
      "C:\\Users\\KEI\\Anaconda3\\lib\\site-packages\\tensorflow\\python\\framework\\dtypes.py:535: FutureWarning: Passing (type, 1) or '1type' as a synonym of type is deprecated; in a future version of numpy, it will be understood as (type, (1,)) / '(1,)type'.\n",
      "  np_resource = np.dtype([(\"resource\", np.ubyte, 1)])\n"
     ]
    }
   ],
   "source": [
    "import tensorflow as tf"
   ]
  },
  {
   "cell_type": "code",
   "execution_count": 44,
   "metadata": {},
   "outputs": [],
   "source": [
    "#training\n",
    "learning_rate = 1.5\n",
    "training_epochs = 10000\n",
    "\n",
    "X = tf.placeholder(tf.float32)\n",
    "Y = tf.placeholder(tf.float32)\n",
    "\n",
    "def model(X, mu, sig):\n",
    "    return tf.exp(tf.div(tf.negative(tf.pow(tf.subtract(X, mu), 2.)), tf.multiply(2., tf.pow(sig, 2.))))"
   ]
  },
  {
   "cell_type": "code",
   "execution_count": 45,
   "metadata": {},
   "outputs": [],
   "source": [
    "mu = tf.Variable(1., name=\"mu\")\n",
    "sig = tf.Variable(1., name=\"sig\")\n",
    "y_model = model(X, mu, sig)"
   ]
  },
  {
   "cell_type": "code",
   "execution_count": 46,
   "metadata": {},
   "outputs": [],
   "source": [
    "cost = tf.square(Y-y_model)\n",
    "train_op = tf.train.GradientDescentOptimizer(learning_rate).minimize(cost)\n",
    "sess = tf.Session()\n",
    "init = tf.global_variables_initializer()\n",
    "sess.run(init) "
   ]
  },
  {
   "cell_type": "code",
   "execution_count": 47,
   "metadata": {},
   "outputs": [
    {
     "name": "stdout",
     "output_type": "stream",
     "text": [
      "27.488813\n",
      "33.74875\n"
     ]
    }
   ],
   "source": [
    "for epoch in range(training_epochs):\n",
    "    for (x, y) in zip(X_train, nY_train):\n",
    "         sess.run(train_op, feed_dict={X:x, Y:y})\n",
    "mu_val = sess.run(mu)\n",
    "sig_val = sess.run(sig)\n",
    "print(mu_val)\n",
    "print(sig_val)\n",
    "sess.close()"
   ]
  },
  {
   "cell_type": "code",
   "execution_count": 48,
   "metadata": {},
   "outputs": [
    {
     "data": {
      "text/plain": [
       "[<matplotlib.lines.Line2D at 0x20073fbd348>]"
      ]
     },
     "execution_count": 48,
     "metadata": {},
     "output_type": "execute_result"
    },
    {
     "data": {
      "image/png": "[encoded data removed]",
      "text/plain": [
       "<Figure size 432x288 with 1 Axes>"
      ]
     },
     "metadata": {
      "needs_background": "light"
     },
     "output_type": "display_data"
    }
   ],
   "source": [
    "plt.plot(X_train, gaussian(X_train, mu_val, sig_val))"
   ]
  },
  {
   "cell_type": "code",
   "execution_count": 52,
   "metadata": {},
   "outputs": [
    {
     "data": {
      "text/plain": [
       "<matplotlib.collections.PathCollection at 0x20074039788>"
      ]
     },
     "execution_count": 52,
     "metadata": {},
     "output_type": "execute_result"
    },
    {
     "data": {
      "image/png": "[encoded data removed]",
      "text/plain": [
       "<Figure size 432x288 with 1 Axes>"
      ]
     },
     "metadata": {
      "needs_background": "light"
     },
     "output_type": "display_data"
    }
   ],
   "source": [
    "fig, ax = plt.subplots()\n",
    "ax.plot(X_train, trY2, color='r')\n",
    "ax.scatter(X_train, Y_train)"
   ]
  },
  {
   "cell_type": "code",
   "execution_count": 51,
   "metadata": {},
   "outputs": [],
   "source": [
    "trY2 = maxY * gaussian(X_train, mu_val, sig_val)"
   ]
  },
  {
   "cell_type": "code",
   "execution_count": 54,
   "metadata": {},
   "outputs": [
    {
     "name": "stdout",
     "output_type": "stream",
     "text": [
      "Prediction of week 35 19363.95816610176\n",
      "Actual week 35 17580\n"
     ]
    }
   ],
   "source": [
    "print(\"Prediction of week 35\", trY2[23])\n",
    "print(\"Actual week 35\", Y_train[23])"
   ]
  },
  {
   "cell_type": "code",
   "execution_count": 55,
   "metadata": {},
   "outputs": [
    {
     "data": {
      "image/png": "[encoded data removed]",
      "text/plain": [
       "<Figure size 432x288 with 1 Axes>"
      ]
     },
     "metadata": {
      "needs_background": "light"
     },
     "output_type": "display_data"
    }
   ],
   "source": [
    "error = np.power(np.power(trY2 - Y_train, 2), 0.5)\n",
    "plt.bar(X_train, error)\n",
    "plt.show() "
   ]
  },
  {
   "cell_type": "code",
   "execution_count": 56,
   "metadata": {},
   "outputs": [],
   "source": [
    "import functools"
   ]
  },
  {
   "cell_type": "code",
   "execution_count": 57,
   "metadata": {},
   "outputs": [
    {
     "name": "stdout",
     "output_type": "stream",
     "text": [
      "Average Error 422.90807862049337\n",
      "Accuracy 0.9783523710779846\n"
     ]
    }
   ],
   "source": [
    "avg_error = functools.reduce(lambda a,b: a+b, (trY2-Y_train))\n",
    "avg_error = np.abs(avg_error) / len(X_train)\n",
    "print(\"Average Error\", avg_error)\n",
    "acc = 1. - (avg_error / maxY)\n",
    "print(\"Accuracy\", acc)"
   ]
  },
  {
   "cell_type": "code",
   "execution_count": null,
   "metadata": {},
   "outputs": [],
   "source": []
  }
 ],
 "metadata": {
  "kernelspec": {
   "display_name": "Python 3",
   "language": "python",
   "name": "python3"
  },
  "language_info": {
   "codemirror_mode": {
    "name": "ipython",
    "version": 3
   },
   "file_extension": ".py",
   "mimetype": "text/x-python",
   "name": "python",
   "nbconvert_exporter": "python",
   "pygments_lexer": "ipython3",
   "version": "3.7.4"
  }
 },
 "nbformat": 4,
 "nbformat_minor": 2
}
